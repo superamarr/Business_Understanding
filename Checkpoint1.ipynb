{
  "nbformat": 4,
  "nbformat_minor": 0,
  "metadata": {
    "colab": {
      "provenance": []
    },
    "kernelspec": {
      "name": "python3",
      "display_name": "Python 3"
    },
    "language_info": {
      "name": "python"
    }
  },
  "cells": [
    {
      "cell_type": "markdown",
      "source": [
        "#Business Understanding"
      ],
      "metadata": {
        "id": "OtswjsV8CfTR"
      }
    },
    {
      "cell_type": "markdown",
      "source": [
        "#Business Objective"
      ],
      "metadata": {
        "id": "mYtdHF5f7ZIl"
      }
    },
    {
      "cell_type": "markdown",
      "source": [
        "Tujuan utama proyek ini adalah untuk mengidentifikasi faktor-faktor yang secara signifikan mempengaruhi kinerja siswa dalam ujian yang mencakup analisis bagaimana variabel seperti jenis kelamin, ras/etnis, tingkat pendidikan orang tua, jenis makan siang, dan persiapan tes berkorelasi dengan skor ujian. Proyek ini bertujuan untuk menghasilkan wawasan yang dapat ditindaklanjuti untuk membantu guru, orang tua, dan pembuat kebijakan dalam mengembangkan strategi yang lebih efektif untuk meningkatkan hasil akademik siswa. Selain itu, proyek ini juga dapat mengungkap disparitas dalam kinerja berdasarkan kelompok demografis tertentu."
      ],
      "metadata": {
        "id": "bJLT2AZO7fXq"
      }
    },
    {
      "cell_type": "markdown",
      "source": [
        "#Assess Situation\n"
      ],
      "metadata": {
        "id": "L0ckgN9E9RzF"
      }
    },
    {
      "cell_type": "markdown",
      "source": [
        "Situasi bisnis yang mendasari analisis ini adalah kebutuhan untuk meningkatkan dan meratakan hasil pendidikan. Data kinerja siswa memberikan kesempatan untuk memahami faktor-faktor apa saja yang dapat dimodifikasi atau ditingkatkan untuk mendukung siswa mendapatkan hasil dengan lebih baik lagi. Dengan pasar kerja yang semakin kompetitif, sangat penting untuk memastikan bahwa semua siswa memiliki kesempatan untuk mencapai bakat maupun potensi penuh mereka. Analisis kinerja siswa memungkinkan untuk mengidentifikasi kesenjangan dan mengembangkan intervensi yang ditargetkan untuk menutup kesenjangan tersebut."
      ],
      "metadata": {
        "id": "irM8gzvw9dpL"
      }
    },
    {
      "cell_type": "markdown",
      "source": [
        "#Data Mining Goals"
      ],
      "metadata": {
        "id": "piKmUaaj9_F8"
      }
    },
    {
      "cell_type": "markdown",
      "source": [
        "Menentukan variabel yang merupakan prediktor paling kuat untuk kinerja dalam ujian matematika, membaca, dan menulis, kemudian mencari hubungan antara variabel-variabel tersebut. Misalnya, apakah ada korelasi antara tingkat pendidikan orang tua dan kinerja siswa? Apakah siswa yang mengikuti persiapan tes secara konsisten mendapatkan skor lebih tinggi?"
      ],
      "metadata": {
        "id": "qbSuf-eH-DH4"
      }
    },
    {
      "cell_type": "markdown",
      "source": [
        "#Project Plan"
      ],
      "metadata": {
        "id": "szArNFYD-uel"
      }
    },
    {
      "cell_type": "markdown",
      "source": [
        "1. Melakukan Data Cleaning\n",
        "\n",
        " -Memastikan bahwa data dalam file \"StudentsPerformance.csv\" bersih dan siap untuk dianalisis. Hal Ini dilakukan untuk penanganan nilai yang hilang atau data yang tidak konsisten.\n",
        "\n",
        "2. Menganalisis Data\n",
        "\n",
        " -Menghitung statistik deskriptif (mean, median, standar deviasi) untuk setiap\n",
        " variabel.\n",
        "\n",
        "3. Visualisasi Data\n",
        "\n",
        " -Membuat histogram untuk melihat distribusi skor ujian\n",
        "\n",
        "4. Interprensi dan Rekomendasi\n",
        "\n",
        " -Menyimpulkan faktor - faktor yang mempengaruhi kinerja siswa\n",
        "\n",
        " -Memberikan rekomendasi berbasis data seperti : \"Memenuhi kualitas makanan anak - anak\"\n"
      ],
      "metadata": {
        "id": "-sU9LPAe_CqV"
      }
    }
  ]
}
